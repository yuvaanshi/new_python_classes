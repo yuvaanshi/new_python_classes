{
 "cells": [
  {
   "cell_type": "code",
   "execution_count": null,
   "metadata": {},
   "outputs": [],
   "source": [
    "Environment setup\n",
    "\n",
    "anaconda -- python distribution\n",
    "github --> online code storage repository\n"
   ]
  },
  {
   "cell_type": "code",
   "execution_count": 1,
   "metadata": {},
   "outputs": [],
   "source": [
    "#steps to follow to install anaconda\n",
    "#Anaconda is a distribution of python\n",
    "\n",
    "#step-1: navigate to https://www.anaconda.com/distribution/\n",
    "#step-2: select download  --> top right side\n",
    "#step-3: select python verion\n",
    "#step-4 : it is an exe file you can double click and install the anaconda\n",
    "#step-5 : once it is installed you can go the stat button and type the anacoda navigator\n",
    "#step-6 : in anacoda navigater you have jupyter notebook\n",
    "#Step-7 : it will be opened in internet explorer\n",
    "    \n",
    "    \n"
   ]
  },
  {
   "cell_type": "code",
   "execution_count": 3,
   "metadata": {},
   "outputs": [
    {
     "name": "stdout",
     "output_type": "stream",
     "text": [
      "Hello World Welcome to python Programming class\n"
     ]
    }
   ],
   "source": [
    "#write hello world python programm\n",
    "print('Hello World Welcome to python Programming class')"
   ]
  },
  {
   "cell_type": "code",
   "execution_count": null,
   "metadata": {},
   "outputs": [],
   "source": []
  },
  {
   "cell_type": "code",
   "execution_count": null,
   "metadata": {},
   "outputs": [],
   "source": []
  },
  {
   "cell_type": "code",
   "execution_count": null,
   "metadata": {},
   "outputs": [],
   "source": []
  }
 ],
 "metadata": {
  "kernelspec": {
   "display_name": "Python 3",
   "language": "python",
   "name": "python3"
  },
  "language_info": {
   "codemirror_mode": {
    "name": "ipython",
    "version": 3
   },
   "file_extension": ".py",
   "mimetype": "text/x-python",
   "name": "python",
   "nbconvert_exporter": "python",
   "pygments_lexer": "ipython3",
   "version": "3.7.4"
  }
 },
 "nbformat": 4,
 "nbformat_minor": 2
}
