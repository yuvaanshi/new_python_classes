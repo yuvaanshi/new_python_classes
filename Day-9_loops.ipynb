{
 "cells": [
  {
   "cell_type": "code",
   "execution_count": 25,
   "metadata": {},
   "outputs": [
    {
     "name": "stdout",
     "output_type": "stream",
     "text": [
      "{'user_name': 'chrissy', 'first_name': 'dara', 'last_name': 'chandana'}\n"
     ]
    }
   ],
   "source": [
    "# For looping concepts in Dictionaries\n",
    "# Looping through all the values in Dictionaries  -----> Most imp int questions\n",
    "\n",
    "user_0 = {'user_name': 'chrissy',\n",
    "        'first_name':'dara',\n",
    "        'last_name':'chandana'}\n",
    "print(user_0)\n"
   ]
  },
  {
   "cell_type": "code",
   "execution_count": 7,
   "metadata": {},
   "outputs": [
    {
     "name": "stdout",
     "output_type": "stream",
     "text": [
      "<class 'dict'>\n"
     ]
    }
   ],
   "source": [
    "print(type(user_0))"
   ]
  },
  {
   "cell_type": "code",
   "execution_count": 33,
   "metadata": {},
   "outputs": [
    {
     "name": "stdout",
     "output_type": "stream",
     "text": [
      "user_name\n",
      "first_name\n",
      "last_name\n"
     ]
    }
   ],
   "source": [
    "# Normal for loop condition\n",
    "\n",
    "mainvar=user_0\n",
    "for tempvar in mainvar:\n",
    "    print(tempvar)\n",
    "    "
   ]
  },
  {
   "cell_type": "code",
   "execution_count": 35,
   "metadata": {},
   "outputs": [
    {
     "ename": "SyntaxError",
     "evalue": "invalid syntax (<ipython-input-35-2f87d47e571b>, line 2)",
     "output_type": "error",
     "traceback": [
      "\u001b[1;36m  File \u001b[1;32m\"<ipython-input-35-2f87d47e571b>\"\u001b[1;36m, line \u001b[1;32m2\u001b[0m\n\u001b[1;33m    print{f\"\\nKey:[key]\"}#key temp var\u001b[0m\n\u001b[1;37m         ^\u001b[0m\n\u001b[1;31mSyntaxError\u001b[0m\u001b[1;31m:\u001b[0m invalid syntax\n"
     ]
    }
   ],
   "source": [
    "for key.value in user_0.items: # tempvar are key, value\n",
    "    print{f\"\\nKey:[key]\"}#key temp var\n",
    "    "
   ]
  },
  {
   "cell_type": "code",
   "execution_count": 11,
   "metadata": {},
   "outputs": [
    {
     "name": "stdout",
     "output_type": "stream",
     "text": [
      "\n",
      "key:user_name\n",
      "\n",
      "key:chrissy\n",
      "\n",
      "key:first_name\n",
      "\n",
      "key:dara\n",
      "\n",
      "key:last_name\n",
      "\n",
      "key:chandana\n"
     ]
    }
   ],
   "source": [
    "for a,b in user_0.items():\n",
    "    print(f\"\\nkey:{a}\")\n",
    "    print(f\"\\nkey:{b}\")"
   ]
  },
  {
   "cell_type": "code",
   "execution_count": 12,
   "metadata": {},
   "outputs": [
    {
     "name": "stdout",
     "output_type": "stream",
     "text": [
      "user_name\n",
      "first_name\n",
      "last_name\n"
     ]
    }
   ],
   "source": [
    "#req: i waant to get only keys, no values are need\n",
    "\n",
    "for a in user_0.keys():\n",
    "    print(a)"
   ]
  },
  {
   "cell_type": "code",
   "execution_count": 14,
   "metadata": {},
   "outputs": [
    {
     "name": "stdout",
     "output_type": "stream",
     "text": [
      "chrissy\n",
      "dara\n",
      "chandana\n"
     ]
    }
   ],
   "source": [
    "#req: i waant to get only values, no keys are need\n",
    "\n",
    "for b in user_0.values():\n",
    "    print(b)"
   ]
  },
  {
   "cell_type": "code",
   "execution_count": 16,
   "metadata": {},
   "outputs": [
    {
     "name": "stdout",
     "output_type": "stream",
     "text": [
      "{'chandana': 'python', 'pradeep': 'Devops', 'vincy': 'AI', 'yuvaanshi': 'ML'}\n"
     ]
    }
   ],
   "source": [
    "fav_topics = {\n",
    "    'chandana':'python',\n",
    "    'pradeep':'Devops',\n",
    "    'vincy':'AI',\n",
    "    'yuvaanshi':'ML'\n",
    "    \n",
    "    }\n",
    "print(fav_topics)\n"
   ]
  },
  {
   "cell_type": "code",
   "execution_count": 18,
   "metadata": {},
   "outputs": [
    {
     "name": "stdout",
     "output_type": "stream",
     "text": [
      "Chandana, Thanks for choosing your Topics\n",
      "Pradeep, Thanks for choosing your Topics\n",
      "Vincy, Thanks for choosing your Topics\n",
      "Yuvaanshi, Thanks for choosing your Topics\n"
     ]
    }
   ],
   "source": [
    "#req: to print and loop through the dictionary in a particular order\n",
    "\n",
    "for name in sorted(fav_topics.keys()):\n",
    "    print(f\"{name.title()}, Thanks for choosing your Topics\")"
   ]
  },
  {
   "cell_type": "code",
   "execution_count": null,
   "metadata": {},
   "outputs": [],
   "source": [
    "# Introduction to while loops\n"
   ]
  },
  {
   "cell_type": "code",
   "execution_count": 24,
   "metadata": {},
   "outputs": [
    {
     "name": "stdout",
     "output_type": "stream",
     "text": [
      "1\n",
      "2\n",
      "3\n",
      "4\n",
      "5\n",
      "6\n",
      "7\n",
      "8\n",
      "9\n",
      "10\n"
     ]
    }
   ],
   "source": [
    "current_num =1\n",
    "while current_num <=10: # while condition, and this condition is failing for 11 so ii will come out of the loop\n",
    "    print(current_num) # print statement\n",
    "    current_num +=1 # main condition curent_num = Current_num+1\n",
    "    # iteration\n",
    "    "
   ]
  },
  {
   "cell_type": "code",
   "execution_count": null,
   "metadata": {},
   "outputs": [],
   "source": [
    "# differnece b/w for loop and while loop\n",
    "# for loop is a collection of items and executes a block of code on the each item in the collection provides\n",
    "# While loop executes as long a certian condition is true "
   ]
  },
  {
   "cell_type": "code",
   "execution_count": null,
   "metadata": {},
   "outputs": [],
   "source": []
  }
 ],
 "metadata": {
  "kernelspec": {
   "display_name": "Python 3",
   "language": "python",
   "name": "python3"
  },
  "language_info": {
   "codemirror_mode": {
    "name": "ipython",
    "version": 3
   },
   "file_extension": ".py",
   "mimetype": "text/x-python",
   "name": "python",
   "nbconvert_exporter": "python",
   "pygments_lexer": "ipython3",
   "version": "3.7.4"
  }
 },
 "nbformat": 4,
 "nbformat_minor": 2
}
