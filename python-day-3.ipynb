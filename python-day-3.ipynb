{
 "cells": [
  {
   "cell_type": "code",
   "execution_count": 32,
   "metadata": {},
   "outputs": [],
   "source": [
    "#introdction of lists\n"
   ]
  },
  {
   "cell_type": "code",
   "execution_count": 18,
   "metadata": {},
   "outputs": [
    {
     "name": "stdout",
     "output_type": "stream",
     "text": [
      "['chandana', 'chrissy', 'yuvaanshi', 'scarlett', 'vincy', 'PRADEEP']\n"
     ]
    }
   ],
   "source": [
    "students = ['chandana','chrissy','yuvaanshi','scarlett','vincy','PRADEEP'] # indexing  0,1,2,3,4,5\n",
    "\n",
    "print (students)\n"
   ]
  },
  {
   "cell_type": "code",
   "execution_count": null,
   "metadata": {},
   "outputs": [],
   "source": [
    "+ve indexing= 0,1,2,3,4...........\n",
    "-ve indexing = ..............-3,-2,-1"
   ]
  },
  {
   "cell_type": "code",
   "execution_count": 19,
   "metadata": {},
   "outputs": [
    {
     "data": {
      "text/plain": [
       "list"
      ]
     },
     "execution_count": 19,
     "metadata": {},
     "output_type": "execute_result"
    }
   ],
   "source": [
    "type(students) # to know the data type"
   ]
  },
  {
   "cell_type": "code",
   "execution_count": 10,
   "metadata": {},
   "outputs": [],
   "source": [
    "# interview question\n",
    "# from where negative indexing starting from -1\n",
    "# from where positive indexing starts from 0\n",
    "# interview quaestion:-2\n",
    "# requirement is to acive -ve indexing we have to print scarlett again\n"
   ]
  },
  {
   "cell_type": "code",
   "execution_count": 20,
   "metadata": {},
   "outputs": [
    {
     "name": "stdout",
     "output_type": "stream",
     "text": [
      "vincy\n"
     ]
    }
   ],
   "source": [
    "print(students[-2])"
   ]
  },
  {
   "cell_type": "code",
   "execution_count": 21,
   "metadata": {},
   "outputs": [
    {
     "name": "stdout",
     "output_type": "stream",
     "text": [
      "Scarlett\n"
     ]
    }
   ],
   "source": [
    "# enhancement of the code\n",
    "print(students[-3].title())"
   ]
  },
  {
   "cell_type": "code",
   "execution_count": 22,
   "metadata": {},
   "outputs": [
    {
     "name": "stdout",
     "output_type": "stream",
     "text": [
      "SCARLETT\n"
     ]
    }
   ],
   "source": [
    "print(students[-3].upper())"
   ]
  },
  {
   "cell_type": "code",
   "execution_count": 23,
   "metadata": {},
   "outputs": [
    {
     "name": "stdout",
     "output_type": "stream",
     "text": [
      "PRADEEP\n"
     ]
    }
   ],
   "source": [
    "print(students[-1])"
   ]
  },
  {
   "cell_type": "code",
   "execution_count": 25,
   "metadata": {},
   "outputs": [
    {
     "name": "stdout",
     "output_type": "stream",
     "text": [
      "pradeep\n"
     ]
    }
   ],
   "source": [
    "print(students[-1].lower())"
   ]
  },
  {
   "cell_type": "code",
   "execution_count": 25,
   "metadata": {},
   "outputs": [
    {
     "name": "stdout",
     "output_type": "stream",
     "text": [
      "['chinni', 'bujji', 'bunty', 'vincy', 'chunchu']\n"
     ]
    }
   ],
   "source": [
    "#changing , adding and removing elements in a list\n",
    "\n",
    "kids = ['chinni','bujji','bunty','vincy','chunchu']\n",
    "print(kids)"
   ]
  },
  {
   "cell_type": "code",
   "execution_count": 26,
   "metadata": {},
   "outputs": [
    {
     "name": "stdout",
     "output_type": "stream",
     "text": [
      "['chinni', 'bujji', 'chinku', 'vincy', 'chunchu']\n"
     ]
    }
   ],
   "source": [
    "#changing and modifying the list\n",
    "# requirement remove bujji from list andd replace bunty with chinku\n",
    "kids[2]='chinku' \n",
    "print(kids)"
   ]
  },
  {
   "cell_type": "code",
   "execution_count": 27,
   "metadata": {},
   "outputs": [
    {
     "name": "stdout",
     "output_type": "stream",
     "text": [
      "['chinni', 'bujji', 'chinku', 'vincy', 'chunchu', 'pichkoo']\n"
     ]
    }
   ],
   "source": [
    "# adding new kids to the kids list \n",
    "# add puchkas to the kids list\n",
    "kids.append('pichkoo')\n",
    "print(kids)"
   ]
  },
  {
   "cell_type": "code",
   "execution_count": 28,
   "metadata": {},
   "outputs": [
    {
     "name": "stdout",
     "output_type": "stream",
     "text": [
      "['chinni', 'bujji', 'puchkas', 'chinku', 'vincy', 'chunchu', 'pichkoo']\n"
     ]
    }
   ],
   "source": [
    "# requirement to insert puchkas in 3rd place\n",
    "kids.insert(2,\"puchkas\")\n",
    "print(kids)"
   ]
  },
  {
   "cell_type": "code",
   "execution_count": 29,
   "metadata": {},
   "outputs": [
    {
     "name": "stdout",
     "output_type": "stream",
     "text": [
      "['puchkas', 'chinku', 'vincy']\n"
     ]
    }
   ],
   "source": [
    "#range of lists\n",
    "print(kids[2:5])"
   ]
  },
  {
   "cell_type": "code",
   "execution_count": 30,
   "metadata": {},
   "outputs": [
    {
     "name": "stdout",
     "output_type": "stream",
     "text": [
      "['chinni', 'bujji', 'puchkas', 'chinku', 'vincy']\n"
     ]
    }
   ],
   "source": [
    "print(kids[:5]) # to print the list upto chunchu"
   ]
  },
  {
   "cell_type": "code",
   "execution_count": 31,
   "metadata": {},
   "outputs": [
    {
     "name": "stdout",
     "output_type": "stream",
     "text": [
      "['chinni', 'puchkas', 'chinku', 'vincy', 'chunchu', 'pichkoo']\n"
     ]
    }
   ],
   "source": [
    "# to remove the name from list\n",
    "kids.remove(\"bujji\")\n",
    "print(kids)"
   ]
  }
 ],
 "metadata": {
  "kernelspec": {
   "display_name": "Python 3",
   "language": "python",
   "name": "python3"
  },
  "language_info": {
   "codemirror_mode": {
    "name": "ipython",
    "version": 3
   },
   "file_extension": ".py",
   "mimetype": "text/x-python",
   "name": "python",
   "nbconvert_exporter": "python",
   "pygments_lexer": "ipython3",
   "version": "3.7.4"
  }
 },
 "nbformat": 4,
 "nbformat_minor": 2
}
