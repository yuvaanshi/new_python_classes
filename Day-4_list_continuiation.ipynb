{
 "cells": [
  {
   "cell_type": "code",
   "execution_count": null,
   "metadata": {},
   "outputs": [],
   "source": [
    "# moving elements from the list"
   ]
  },
  {
   "cell_type": "code",
   "execution_count": 19,
   "metadata": {},
   "outputs": [
    {
     "name": "stdout",
     "output_type": "stream",
     "text": [
      "['ram', 'shyam', 'sita', 'veena', 'srinu', 'vincy']\n"
     ]
    }
   ],
   "source": [
    "student=[\"ram\",\"shyam\",\"sita\",\"veena\",\"srinu\",\"vincy\"]\n",
    "print(student)"
   ]
  },
  {
   "cell_type": "code",
   "execution_count": 20,
   "metadata": {},
   "outputs": [
    {
     "data": {
      "text/plain": [
       "list"
      ]
     },
     "execution_count": 20,
     "metadata": {},
     "output_type": "execute_result"
    }
   ],
   "source": [
    "type(student)"
   ]
  },
  {
   "cell_type": "code",
   "execution_count": 21,
   "metadata": {},
   "outputs": [
    {
     "name": "stdout",
     "output_type": "stream",
     "text": [
      "['ram', 'sita', 'veena', 'srinu', 'vincy']\n"
     ]
    }
   ],
   "source": [
    "#remove shyam from the list\n",
    "del student[1]\n",
    "print(student)"
   ]
  },
  {
   "cell_type": "code",
   "execution_count": 6,
   "metadata": {},
   "outputs": [
    {
     "name": "stdout",
     "output_type": "stream",
     "text": [
      "['ram', 'veena', 'srinu', 'vincy']\n"
     ]
    }
   ],
   "source": [
    "#**Interview question\n",
    "#removing an element by using pop method\n",
    "print(student)\n"
   ]
  },
  {
   "cell_type": "code",
   "execution_count": 8,
   "metadata": {},
   "outputs": [
    {
     "data": {
      "text/plain": [
       "'vincy'"
      ]
     },
     "execution_count": 8,
     "metadata": {},
     "output_type": "execute_result"
    }
   ],
   "source": [
    "student.pop()\n"
   ]
  },
  {
   "cell_type": "code",
   "execution_count": 9,
   "metadata": {},
   "outputs": [
    {
     "name": "stdout",
     "output_type": "stream",
     "text": [
      "['ram', 'veena', 'srinu']\n"
     ]
    }
   ],
   "source": [
    "print(student)"
   ]
  },
  {
   "cell_type": "code",
   "execution_count": null,
   "metadata": {},
   "outputs": [],
   "source": [
    "# when ever we are using pop method it will eleminate last objects from the list and gets printed remaining"
   ]
  },
  {
   "cell_type": "code",
   "execution_count": 11,
   "metadata": {},
   "outputs": [
    {
     "name": "stdout",
     "output_type": "stream",
     "text": [
      "['ram']\n"
     ]
    }
   ],
   "source": [
    "# again pop method\n",
    "student.pop()\n",
    "print(student)"
   ]
  },
  {
   "cell_type": "code",
   "execution_count": 23,
   "metadata": {},
   "outputs": [
    {
     "name": "stdout",
     "output_type": "stream",
     "text": [
      "['ram', 'sita', 'srinu', 'vincy']\n"
     ]
    }
   ],
   "source": [
    "# if we wanted to delete specific object using pop\n",
    "student.pop(2)\n",
    "print(student)"
   ]
  },
  {
   "cell_type": "code",
   "execution_count": null,
   "metadata": {},
   "outputs": [],
   "source": [
    "#***** delete means it will delete permantly\n",
    "# pop will eleminate the object from the list and creates the corbon copy internally\n"
   ]
  },
  {
   "cell_type": "code",
   "execution_count": null,
   "metadata": {},
   "outputs": [],
   "source": [
    "# organising a list"
   ]
  },
  {
   "cell_type": "code",
   "execution_count": 25,
   "metadata": {},
   "outputs": [
    {
     "name": "stdout",
     "output_type": "stream",
     "text": [
      "['ram', 'shyam', 'sita', 'veena', 'srinu', 'vincy', 'ashok']\n"
     ]
    }
   ],
   "source": [
    "staff=[\"ram\",\"shyam\",\"sita\",\"veena\",\"srinu\",\"vincy\",\"ashok\"]\n",
    "print(staff)"
   ]
  },
  {
   "cell_type": "code",
   "execution_count": 27,
   "metadata": {},
   "outputs": [
    {
     "name": "stdout",
     "output_type": "stream",
     "text": [
      "['ashok', 'ram', 'shyam', 'sita', 'srinu', 'veena', 'vincy']\n"
     ]
    }
   ],
   "source": [
    "#req: we want to organise the list in alphabetical order a-z\n",
    "#case-1 : temporory organising\n",
    "print(sorted(staff))\n",
    "\n",
    "\n",
    "# now it is alphabetcially \n",
    "#suppose if we have a names starting with same letter then it will take for next immediate letter\n"
   ]
  },
  {
   "cell_type": "code",
   "execution_count": 29,
   "metadata": {},
   "outputs": [
    {
     "name": "stdout",
     "output_type": "stream",
     "text": [
      "['ram', 'shyam', 'sita', 'veena', 'srinu', 'vincy', 'ashok']\n"
     ]
    }
   ],
   "source": [
    "print(staff) "
   ]
  },
  {
   "cell_type": "code",
   "execution_count": 33,
   "metadata": {},
   "outputs": [
    {
     "name": "stdout",
     "output_type": "stream",
     "text": [
      "['ashok', 'ram', 'shyam', 'sita', 'srinu', 'veena', 'vincy']\n"
     ]
    }
   ],
   "source": [
    "#case-2 permanant sorting\n",
    "staff.sort()\n",
    "print(staff)"
   ]
  },
  {
   "cell_type": "code",
   "execution_count": 34,
   "metadata": {},
   "outputs": [],
   "source": [
    "#*** Difference between sort and sorted\n",
    "# in sort changes will be permanat\n",
    "# in sorted changes will be temporary\n"
   ]
  },
  {
   "cell_type": "code",
   "execution_count": 35,
   "metadata": {},
   "outputs": [
    {
     "name": "stdout",
     "output_type": "stream",
     "text": [
      "['ram', 'shyam', 'sita', 'veena', 'srinu', 'vincy', 'ashok']\n"
     ]
    }
   ],
   "source": [
    "# reverse sorting\n",
    "staff=[\"ram\",\"shyam\",\"sita\",\"veena\",\"srinu\",\"vincy\",\"ashok\"]\n",
    "print(staff)\n"
   ]
  },
  {
   "cell_type": "code",
   "execution_count": 39,
   "metadata": {},
   "outputs": [
    {
     "name": "stdout",
     "output_type": "stream",
     "text": [
      "['ram', 'shyam', 'sita', 'veena', 'srinu', 'vincy', 'ashok']\n"
     ]
    }
   ],
   "source": [
    "student.sort(reverse=True)\n",
    "print(staff)"
   ]
  },
  {
   "cell_type": "code",
   "execution_count": null,
   "metadata": {},
   "outputs": [],
   "source": []
  },
  {
   "cell_type": "code",
   "execution_count": null,
   "metadata": {},
   "outputs": [],
   "source": []
  },
  {
   "cell_type": "code",
   "execution_count": null,
   "metadata": {},
   "outputs": [],
   "source": []
  },
  {
   "cell_type": "code",
   "execution_count": null,
   "metadata": {},
   "outputs": [],
   "source": []
  }
 ],
 "metadata": {
  "kernelspec": {
   "display_name": "Python 3",
   "language": "python",
   "name": "python3"
  },
  "language_info": {
   "codemirror_mode": {
    "name": "ipython",
    "version": 3
   },
   "file_extension": ".py",
   "mimetype": "text/x-python",
   "name": "python",
   "nbconvert_exporter": "python",
   "pygments_lexer": "ipython3",
   "version": "3.7.4"
  }
 },
 "nbformat": 4,
 "nbformat_minor": 2
}
