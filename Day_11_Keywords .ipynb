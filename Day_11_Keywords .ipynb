{
 "cells": [
  {
   "cell_type": "code",
   "execution_count": 25,
   "metadata": {},
   "outputs": [],
   "source": [
    "# introduction to written value\n",
    "# req: to get a neat formatted name:\n",
    "\n",
    "def get_formatted_name(first_name,last_name):\n",
    "    \"\"\"\" Return a full name neatly formatted\"\"\"\n",
    "    full_name=f\"{first_name} {last_name}\"\n",
    "    return full_name.title()"
   ]
  },
  {
   "cell_type": "code",
   "execution_count": 26,
   "metadata": {},
   "outputs": [
    {
     "data": {
      "text/plain": [
       "'Chandana Dara'"
      ]
     },
     "execution_count": 26,
     "metadata": {},
     "output_type": "execute_result"
    }
   ],
   "source": [
    "get_formatted_name('chandana','dara')"
   ]
  },
  {
   "cell_type": "code",
   "execution_count": 27,
   "metadata": {},
   "outputs": [],
   "source": [
    "# returning a dictionary\n",
    "def build_person(first_name,last_name):  #def full name and passing parameters\n",
    "    \"\"\"Return a dict of info about a person\"\"\" # doc string\n",
    "    person ={'first':first_name,'last':last_name} # creating dictionary and keys by parameters as their values\n",
    "    return person # Returning"
   ]
  },
  {
   "cell_type": "code",
   "execution_count": 28,
   "metadata": {},
   "outputs": [
    {
     "data": {
      "text/plain": [
       "{'first': 'vincy', 'last': 'scarlett'}"
      ]
     },
     "execution_count": 28,
     "metadata": {},
     "output_type": "execute_result"
    }
   ],
   "source": [
    "build_person('vincy','scarlett')"
   ]
  },
  {
   "cell_type": "code",
   "execution_count": 29,
   "metadata": {},
   "outputs": [
    {
     "data": {
      "text/plain": [
       "{'first': 'yuvaanshi', 'last': 'yunika'}"
      ]
     },
     "execution_count": 29,
     "metadata": {},
     "output_type": "execute_result"
    }
   ],
   "source": [
    "build_person('yuvaanshi','yunika')"
   ]
  },
  {
   "cell_type": "code",
   "execution_count": 30,
   "metadata": {},
   "outputs": [],
   "source": [
    "# Passing a list to function:\n",
    "# requ is to greet students\n",
    "\n",
    "def greet_students(names):\n",
    "    \"\"\"\"print a simple greeting message to the students i the list\"\"\"\n",
    "    for name in names:\n",
    "        msg=f\"Hello , Thanks for joining the session on time {name.title()}\"\n",
    "        print(msg)\n",
    "        "
   ]
  },
  {
   "cell_type": "code",
   "execution_count": 31,
   "metadata": {},
   "outputs": [],
   "source": [
    "students=['yuvaanshi','scarlett','princy','vincy','chunchu']"
   ]
  },
  {
   "cell_type": "code",
   "execution_count": 18,
   "metadata": {},
   "outputs": [
    {
     "name": "stdout",
     "output_type": "stream",
     "text": [
      "Hello , Thanks for joining the session on time Yuvaanshi\n",
      "Hello , Thanks for joining the session on time Scarlett\n",
      "Hello , Thanks for joining the session on time Princy\n",
      "Hello , Thanks for joining the session on time Vincy\n",
      "Hello , Thanks for joining the session on time Chunchu\n"
     ]
    }
   ],
   "source": [
    "greet_students(students)"
   ]
  },
  {
   "cell_type": "code",
   "execution_count": 50,
   "metadata": {},
   "outputs": [],
   "source": [
    "# passing orbitary numbeer of arguments\n",
    "# req:\n",
    "# passing multiple arguments\n",
    "\n",
    "def make_pizza(*toppings) : # assert risk symbol\n",
    "    \"\"\"print the list of toppings that have been requested\"\"\"\n",
    "    print(toppings)"
   ]
  },
  {
   "cell_type": "code",
   "execution_count": 51,
   "metadata": {},
   "outputs": [
    {
     "name": "stdout",
     "output_type": "stream",
     "text": [
      "('paneer',)\n"
     ]
    }
   ],
   "source": [
    "make_pizza('paneer')\n"
   ]
  },
  {
   "cell_type": "code",
   "execution_count": 52,
   "metadata": {},
   "outputs": [
    {
     "name": "stdout",
     "output_type": "stream",
     "text": [
      "('corn', 'olives', 'extracheese', 'paneer')\n"
     ]
    }
   ],
   "source": [
    "make_pizza('corn','olives','extracheese','paneer')"
   ]
  },
  {
   "cell_type": "code",
   "execution_count": 54,
   "metadata": {},
   "outputs": [],
   "source": [
    "def make_pizza(*toppings): # assert risk symbol\n",
    "    \"\"\"print the list of toppings that have been requested\"\"\"\n",
    "    print(toppings)"
   ]
  },
  {
   "cell_type": "code",
   "execution_count": 55,
   "metadata": {},
   "outputs": [],
   "source": [
    "def make_pizza(*toppings) : # assert risk symbol\n",
    "    \"\"\"print the list of toppings that have been requested\"\"\"\n",
    "    print(toppings)"
   ]
  },
  {
   "cell_type": "code",
   "execution_count": null,
   "metadata": {},
   "outputs": [],
   "source": []
  },
  {
   "cell_type": "code",
   "execution_count": null,
   "metadata": {},
   "outputs": [],
   "source": []
  },
  {
   "cell_type": "code",
   "execution_count": null,
   "metadata": {},
   "outputs": [],
   "source": []
  },
  {
   "cell_type": "code",
   "execution_count": null,
   "metadata": {},
   "outputs": [],
   "source": []
  }
 ],
 "metadata": {
  "kernelspec": {
   "display_name": "Python 3",
   "language": "python",
   "name": "python3"
  },
  "language_info": {
   "codemirror_mode": {
    "name": "ipython",
    "version": 3
   },
   "file_extension": ".py",
   "mimetype": "text/x-python",
   "name": "python",
   "nbconvert_exporter": "python",
   "pygments_lexer": "ipython3",
   "version": "3.7.4"
  }
 },
 "nbformat": 4,
 "nbformat_minor": 2
}
