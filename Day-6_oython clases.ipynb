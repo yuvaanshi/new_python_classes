{
 "cells": [
  {
   "cell_type": "code",
   "execution_count": 2,
   "metadata": {},
   "outputs": [],
   "source": [
    "# Introduction to user inputs\n",
    "# for example we filling online application for adhar card\n",
    "# what are the inputs we need\n",
    "#first name\n",
    "#last name\n",
    "#DOB : # we we wite anything it will throw an error that invalid input how it sthrow?\n",
    "# Adress:"
   ]
  },
  {
   "cell_type": "code",
   "execution_count": null,
   "metadata": {},
   "outputs": [],
   "source": []
  },
  {
   "cell_type": "code",
   "execution_count": 3,
   "metadata": {},
   "outputs": [
    {
     "name": "stdout",
     "output_type": "stream",
     "text": [
      "tell me something and i will repeat it back for youchadnana\n",
      "chadnana\n"
     ]
    }
   ],
   "source": [
    "# Accepting the user input\n",
    "\n",
    "message = input('tell me something and i will repeat it back for you')\n",
    "print(message)\n",
    "\n"
   ]
  },
  {
   "cell_type": "code",
   "execution_count": 5,
   "metadata": {},
   "outputs": [
    {
     "ename": "SyntaxError",
     "evalue": "unexpected character after line continuation character (<ipython-input-5-c1c2f14c8495>, line 5)",
     "output_type": "error",
     "traceback": [
      "\u001b[1;36m  File \u001b[1;32m\"<ipython-input-5-c1c2f14c8495>\"\u001b[1;36m, line \u001b[1;32m5\u001b[0m\n\u001b[1;33m    print(\\nmessage)  -->\\n  or \\t is not accepted\u001b[0m\n\u001b[1;37m                                                  ^\u001b[0m\n\u001b[1;31mSyntaxError\u001b[0m\u001b[1;31m:\u001b[0m unexpected character after line continuation character\n"
     ]
    }
   ],
   "source": [
    "#enhancement of the code\n",
    "\n",
    "message = input('tell me something and i will repeat it back for you')\n",
    "\n",
    "print(\\nmessage)  -->\\n  or \\t is not accepted"
   ]
  },
  {
   "cell_type": "code",
   "execution_count": 6,
   "metadata": {},
   "outputs": [
    {
     "name": "stdout",
     "output_type": "stream",
     "text": [
      "please enter your namechandana\n",
      "\n",
      "Welcome to python training,chandana\n"
     ]
    }
   ],
   "source": [
    "name = input('please enter your name')\n",
    "\n",
    "print(f\"\\nWelcome to python training,{name}\")"
   ]
  },
  {
   "cell_type": "code",
   "execution_count": 7,
   "metadata": {},
   "outputs": [
    {
     "name": "stdout",
     "output_type": "stream",
     "text": [
      "how old are you18\n",
      "18\n"
     ]
    }
   ],
   "source": [
    "age = input ('how old are you') # by default input accepts the string\n",
    "             \n",
    "print(age)"
   ]
  },
  {
   "cell_type": "code",
   "execution_count": null,
   "metadata": {},
   "outputs": [],
   "source": [
    "age >30 #str ---> string, int-->integer"
   ]
  },
  {
   "cell_type": "code",
   "execution_count": null,
   "metadata": {},
   "outputs": [],
   "source": [
    "string > int ---> which is not supported"
   ]
  },
  {
   "cell_type": "code",
   "execution_count": 8,
   "metadata": {},
   "outputs": [
    {
     "name": "stdout",
     "output_type": "stream",
     "text": [
      "how old are you?25\n",
      "25\n"
     ]
    }
   ],
   "source": [
    "# enhancement of coe\n",
    "age = input ('how old are you?')   # by default input accepts the string\n",
    "age =int(age)  # type casting the data from string to int\n",
    "print(age)"
   ]
  },
  {
   "cell_type": "code",
   "execution_count": null,
   "metadata": {},
   "outputs": [],
   "source": [
    " age>30 # 25>20 ---> true"
   ]
  },
  {
   "cell_type": "code",
   "execution_count": null,
   "metadata": {},
   "outputs": [],
   "source": [
    "# case study:\n",
    "# lets build a simple voting a[plication (if condition will be including)\n",
    "\n",
    "18 yrs is the voting criteria\n",
    " 18 or above 18 --> he / she is eleigible to vote\n",
    "    age is less then 18 years --> not eligible to vote"
   ]
  },
  {
   "cell_type": "code",
   "execution_count": 9,
   "metadata": {},
   "outputs": [
    {
     "name": "stdout",
     "output_type": "stream",
     "text": [
      "how old are you?25\n",
      "\n",
      "you are elible to vote\n"
     ]
    }
   ],
   "source": [
    "age = input('how old are you?')\n",
    "age = int(age)\n",
    "if age >= 18: # to validate the criteria, fulfilling the condition\n",
    "    print(\"\\nyou are elible to vote\")\n",
    "else:\n",
    "    print(\"\\nNot eligible to vote, Please try next time\")"
   ]
  },
  {
   "cell_type": "code",
   "execution_count": null,
   "metadata": {},
   "outputs": [],
   "source": []
  },
  {
   "cell_type": "code",
   "execution_count": null,
   "metadata": {},
   "outputs": [],
   "source": []
  },
  {
   "cell_type": "code",
   "execution_count": null,
   "metadata": {},
   "outputs": [],
   "source": []
  },
  {
   "cell_type": "code",
   "execution_count": null,
   "metadata": {},
   "outputs": [],
   "source": []
  },
  {
   "cell_type": "code",
   "execution_count": null,
   "metadata": {},
   "outputs": [],
   "source": []
  },
  {
   "cell_type": "code",
   "execution_count": null,
   "metadata": {},
   "outputs": [],
   "source": []
  },
  {
   "cell_type": "code",
   "execution_count": null,
   "metadata": {},
   "outputs": [],
   "source": []
  },
  {
   "cell_type": "code",
   "execution_count": null,
   "metadata": {},
   "outputs": [],
   "source": []
  }
 ],
 "metadata": {
  "kernelspec": {
   "display_name": "Python 3",
   "language": "python",
   "name": "python3"
  },
  "language_info": {
   "codemirror_mode": {
    "name": "ipython",
    "version": 3
   },
   "file_extension": ".py",
   "mimetype": "text/x-python",
   "name": "python",
   "nbconvert_exporter": "python",
   "pygments_lexer": "ipython3",
   "version": "3.7.4"
  }
 },
 "nbformat": 4,
 "nbformat_minor": 2
}
