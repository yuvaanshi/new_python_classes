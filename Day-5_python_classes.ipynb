{
 "cells": [
  {
   "cell_type": "code",
   "execution_count": 1,
   "metadata": {},
   "outputs": [
    {
     "name": "stdout",
     "output_type": "stream",
     "text": [
      "['sheela', 'adi', 'chandana', 'renga', 'Harish', 'subbu', 'Tejas']\n"
     ]
    }
   ],
   "source": [
    "colleagues =[\"sheela\",'adi',\"chandana\",\"renga\",\"Harish\",\"subbu\",\"Tejas\"]\n",
    "print(colleagues)"
   ]
  },
  {
   "cell_type": "code",
   "execution_count": 3,
   "metadata": {},
   "outputs": [
    {
     "data": {
      "text/plain": [
       "7"
      ]
     },
     "execution_count": 3,
     "metadata": {},
     "output_type": "execute_result"
    }
   ],
   "source": [
    "#req: how to count elements in the list\n",
    "\n",
    "len(colleagues)"
   ]
  },
  {
   "cell_type": "code",
   "execution_count": 7,
   "metadata": {},
   "outputs": [
    {
     "name": "stdout",
     "output_type": "stream",
     "text": [
      "['sheela', 'adi', 'chandana', 'renga', 'Harish', 'subbu', 'Tejas']\n"
     ]
    }
   ],
   "source": [
    "#*** Imp interview questions\n",
    "#Introduction to for loops\n",
    "# loop: loop is nothing but which will be incuring under itself\n",
    "print(colleagues)\n"
   ]
  },
  {
   "cell_type": "code",
   "execution_count": null,
   "metadata": {},
   "outputs": [],
   "source": [
    "# req is to appreciate the each and every one  for the project sucess at one shot\n",
    "\n",
    "# main variable   ---> colleagues\n",
    "# temperory variable --> assume collegue  ----> temporary place to store the variable\n",
    "# creating the indentation -->\n",
    "# \n"
   ]
  },
  {
   "cell_type": "code",
   "execution_count": 12,
   "metadata": {},
   "outputs": [
    {
     "name": "stdout",
     "output_type": "stream",
     "text": [
      "sheela\n",
      "adi\n",
      "chandana\n",
      "renga\n",
      "Harish\n",
      "subbu\n",
      "Tejas\n"
     ]
    }
   ],
   "source": [
    "# simple for loop program\n",
    "\n",
    "for colleague in colleagues: # for temporary variable\n",
    "      print(colleague)  # maintaining the gap is nothing but indentation"
   ]
  },
  {
   "cell_type": "code",
   "execution_count": 14,
   "metadata": {},
   "outputs": [
    {
     "name": "stdout",
     "output_type": "stream",
     "text": [
      "sheela\n",
      "adi\n",
      "chandana\n",
      "renga\n",
      "Harish\n",
      "subbu\n",
      "Tejas\n"
     ]
    }
   ],
   "source": [
    "for abc in colleagues: # syntax :--> for tempvar(abc in main variable(colleagues))\n",
    "    print(abc)    # print abc temp var\n"
   ]
  },
  {
   "cell_type": "code",
   "execution_count": 18,
   "metadata": {},
   "outputs": [
    {
     "name": "stdout",
     "output_type": "stream",
     "text": [
      "sheela, congratulations all for success\n",
      "adi, congratulations all for success\n",
      "chandana, congratulations all for success\n",
      "renga, congratulations all for success\n",
      "Harish, congratulations all for success\n",
      "subbu, congratulations all for success\n",
      "Tejas, congratulations all for success\n",
      "\n",
      " Thanking all for being a part of this success\n"
     ]
    }
   ],
   "source": [
    "# enhancement of the for loop with the actual loop\n",
    "\n",
    "for abc in colleagues:\n",
    "    print(f\"{abc}, congratulations all for success\")\n",
    "print('\\n Thanking all for being a part of this success')"
   ]
  },
  {
   "cell_type": "code",
   "execution_count": 19,
   "metadata": {},
   "outputs": [
    {
     "name": "stdout",
     "output_type": "stream",
     "text": [
      "1\n",
      "2\n",
      "3\n",
      "4\n",
      "5\n",
      "6\n",
      "7\n",
      "8\n",
      "9\n"
     ]
    }
   ],
   "source": [
    "#  Making Numerical list by using for loop\n",
    "# buit in method called range\n",
    "# range will take start value and stop value\n",
    "for value in range(1,10):\n",
    "    print(value)"
   ]
  },
  {
   "cell_type": "code",
   "execution_count": 21,
   "metadata": {},
   "outputs": [
    {
     "name": "stdout",
     "output_type": "stream",
     "text": [
      "[1, 2, 3, 4, 5]\n"
     ]
    }
   ],
   "source": [
    "# int question why it is printing only upto 10\n",
    "# last number is always exclusive i.e., it is not considered or printed\n",
    "numbers = list(range(1,6))\n",
    "print(numbers)\n",
    "\n"
   ]
  },
  {
   "cell_type": "code",
   "execution_count": 25,
   "metadata": {},
   "outputs": [
    {
     "name": "stdout",
     "output_type": "stream",
     "text": [
      "[2, 4, 6, 8, 10, 12, 14, 16, 18]\n"
     ]
    }
   ],
   "source": [
    "##** imp int question\n",
    "#  print only even numbers from 1 to 20\n",
    "even_numbers = list(range(2,20,2))  # (start, stop, step)\n",
    "print (even_numbers)"
   ]
  },
  {
   "cell_type": "code",
   "execution_count": 26,
   "metadata": {},
   "outputs": [
    {
     "name": "stdout",
     "output_type": "stream",
     "text": [
      "[3, 5, 7, 9, 11, 13, 15, 17, 19]\n"
     ]
    }
   ],
   "source": [
    "#  print only even numbers from 1 to 20\n",
    "odd_numbers = list(range(3,20,2))  # (start, stop, step)\n",
    "print (odd_numbers)"
   ]
  },
  {
   "cell_type": "code",
   "execution_count": 27,
   "metadata": {},
   "outputs": [
    {
     "data": {
      "text/plain": [
       "3"
      ]
     },
     "execution_count": 27,
     "metadata": {},
     "output_type": "execute_result"
    }
   ],
   "source": [
    "# req to get minimum values from odd numbers\n",
    "min(odd_numbers)\n",
    "\n"
   ]
  },
  {
   "cell_type": "code",
   "execution_count": null,
   "metadata": {},
   "outputs": [],
   "source": [
    "# req to get maximum values from odd numbers"
   ]
  },
  {
   "cell_type": "code",
   "execution_count": 29,
   "metadata": {},
   "outputs": [
    {
     "data": {
      "text/plain": [
       "19"
      ]
     },
     "execution_count": 29,
     "metadata": {},
     "output_type": "execute_result"
    }
   ],
   "source": [
    "max(odd_numbers)"
   ]
  },
  {
   "cell_type": "code",
   "execution_count": 30,
   "metadata": {},
   "outputs": [
    {
     "data": {
      "text/plain": [
       "99"
      ]
     },
     "execution_count": 30,
     "metadata": {},
     "output_type": "execute_result"
    }
   ],
   "source": [
    "# sum of odd number\n",
    "sum(odd_numbers)"
   ]
  },
  {
   "cell_type": "code",
   "execution_count": 38,
   "metadata": {},
   "outputs": [
    {
     "name": "stdout",
     "output_type": "stream",
     "text": [
      "['kajol', 'ram', 'ramcharan', 'tammana', 'trisha']\n"
     ]
    }
   ],
   "source": [
    "# slicing of lists\n",
    "\n",
    "students = [\"kajol\",\"ram\",\"ramcharan\",\"tammana\",\"trisha\"]\n",
    "print(students)"
   ]
  },
  {
   "cell_type": "code",
   "execution_count": 36,
   "metadata": {},
   "outputs": [
    {
     "name": "stdout",
     "output_type": "stream",
     "text": [
      "['kajol', 'ram']\n"
     ]
    }
   ],
   "source": [
    "# req is to group 2 student\n",
    "print(students[0:2]) # last value is always exclusive\n"
   ]
  },
  {
   "cell_type": "code",
   "execution_count": 40,
   "metadata": {},
   "outputs": [
    {
     "name": "stdout",
     "output_type": "stream",
     "text": [
      "['ramcharan', 'tammana']\n"
     ]
    }
   ],
   "source": [
    "print(students[2:4])"
   ]
  }
 ],
 "metadata": {
  "kernelspec": {
   "display_name": "Python 3",
   "language": "python",
   "name": "python3"
  },
  "language_info": {
   "codemirror_mode": {
    "name": "ipython",
    "version": 3
   },
   "file_extension": ".py",
   "mimetype": "text/x-python",
   "name": "python",
   "nbconvert_exporter": "python",
   "pygments_lexer": "ipython3",
   "version": "3.7.4"
  }
 },
 "nbformat": 4,
 "nbformat_minor": 2
}
